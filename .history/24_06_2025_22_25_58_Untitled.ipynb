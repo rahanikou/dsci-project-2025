{
 "cells": [
  {
   "cell_type": "markdown",
   "id": "86b75106-df6f-4a12-8683-a770de3752d0",
   "metadata": {},
   "source": [
    "Title:\n",
    "            Predicting Usage of a Video Game Research Server\n"
   ]
  },
  {
   "cell_type": "markdown",
   "id": "c579b7ad-e397-48a3-80e4-8362eede38a6",
   "metadata": {},
   "source": [
    "INTRODUCTION"
   ]
  },
  {
   "cell_type": "markdown",
   "id": "325af207-2f21-4d4d-9d33-0ac71e0540a9",
   "metadata": {},
   "source": [
    "Background: Video games have become a widely popular form of entertainment and a valuable source of behavioral data for researchers. Understanding how players interact with games can inform a variety of domains, from improving game design and user engagement to studying cognitive processes and social behavior in virtual environments.A research group in UBC’s Computer Science department is studying how people play video games by collecting data from a custom MineCraft server. Players' demographics, skill levels, and in-game behaviors are recorded to help answer questions about engagement and resource needs.\n",
    "\n",
    "Running the server requires careful planning—especially in recruiting active participants and managing server capacity. One key question is whether it’s possible to predict which players will subscribe to the project’s newsletter, as a sign of ongoing interest and engagement. This project explores that question using real gameplay and demographic data.\n",
    "\n"
   ]
  },
  {
   "cell_type": "code",
   "execution_count": null,
   "id": "eb73d4c1-48b2-4125-8663-ebb623070932",
   "metadata": {},
   "outputs": [],
   "source": []
  }
 ],
 "metadata": {
  "kernelspec": {
   "display_name": "R",
   "language": "R",
   "name": "ir"
  },
  "language_info": {
   "codemirror_mode": "r",
   "file_extension": ".r",
   "mimetype": "text/x-r-source",
   "name": "R",
   "pygments_lexer": "r",
   "version": "4.3.3"
  }
 },
 "nbformat": 4,
 "nbformat_minor": 5
}
