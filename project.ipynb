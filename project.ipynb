{
 "cells": [
  {
   "cell_type": "markdown",
   "id": "86b75106-df6f-4a12-8683-a770de3752d0",
   "metadata": {},
   "source": [
    "Title:\n",
    "            Predicting Usage of a Video Game Research Server\n"
   ]
  },
  {
   "cell_type": "markdown",
   "id": "c579b7ad-e397-48a3-80e4-8362eede38a6",
   "metadata": {},
   "source": [
    "INTRODUCTION"
   ]
  },
  {
   "cell_type": "markdown",
   "id": "325af207-2f21-4d4d-9d33-0ac71e0540a9",
   "metadata": {},
   "source": [
    "**`Background`** \n",
    "Video games have become a widely popular form of entertainment and a valuable source of behavioral data for researchers. Understanding how players interact with games can inform a variety of domains, from improving game design and user engagement to studying cognitive processes and soc/ial behavior in virtual environments.A research group in UBC’s Computer Science department is studying how people play video games by collecting data from a custom MineCraft server. Players' demographics, skill levels, and in-game behaviors are recorded to help answer questions about engagement and resource needs.\n",
    "\n",
    "Running the server requires careful planning, especially in recruiting active participants and managing server capacity. One key question is whether it’s possible to predict which players will subscribe to the project’s newsletter, as a sign of ongoing interest and engagement. This project explores that question using real gameplay and demographic data.\n",
    "\n"
   ]
  },
  {
   "cell_type": "markdown",
   "id": "5a42ab1c-622c-4ce5-bf0c-4c54238ac43d",
   "metadata": {},
   "source": [
    "**`Question:`** \n",
    "Can player demographics and gameplay behavior, such as age, gender, skill level, and total hours played—predict whether a player will subscribe to the game-related newsletter in the UBC Minecraft server dataset?\n",
    "\n"
   ]
  },
  {
   "cell_type": "markdown",
   "id": "6691cd38-a920-40e9-966c-13680f79e971",
   "metadata": {},
   "source": [
    "**`data description`**\n",
    "\n",
    "To address the predictive question—Can player demographics and gameplay behavior predict newsletter subscription?—we used two datasets collected by a research group in the UBC Computer Science department. These datasets were gathered from a Minecraft server that logs player sessions and stores basic demographic information. \n",
    "### 1. Player Information (`players.csv`)\n",
    "\n",
    "This dataset includes one row per player with demographic and experience-level data.\n",
    "\n",
    "**Summary:**\n",
    "- **Number of observations:** 196 players\n",
    "- **Key issues:** 2 missing values in the `Age` column; some players have no playtime recorded.\n",
    "\n",
    "| Variable             | Type                   | Description                                               |\n",
    "|----------------------|------------------------|-----------------------------------------------------------|\n",
    "| `hashedEmail`        | Identifier             | Anonymized player ID used to link datasets                |\n",
    "| `experience`         | Categorical (string)   | Player’s skill level (e.g., Pro, Veteran, Amateur)        |\n",
    "| `subscribe`          | Logical (TRUE/FALSE)   | Whether the player subscribed to the newsletter           |\n",
    "| `played_hours`       | Numeric (float)        | Originally reported total hours played                    |\n",
    "| `name`               | String                 | First name (not used in modeling)                         |\n",
    "| `gender`             | Categorical (string)   | Player’s gender                                           |\n",
    "| `Age`                | Numeric (float)        | Age of the player in years                                |\n",
    "\n",
    "### 2. Session Logs (`sessions.csv`)\n",
    "\n",
    "This dataset contains gameplay session data, with multiple entries per player.\n",
    "\n",
    "**Summary:**\n",
    "- **Number of observations:** 1,535 sessions\n",
    "- **Key issues:** 2 missing `end_time` values (incomplete sessions)\n",
    "\n",
    "| Variable               | Type                 | Description                                              |\n",
    "|------------------------|----------------------|----------------------------------------------------------|\n",
    "| `hashedEmail`          | Identifier           | Links session to a player                                |\n",
    "| `start_time`           | String (datetime)    | Start of the session                                     |\n",
    "| `end_time`             | String (datetime)    | End of the session (may be missing)                      |\n",
    "| `original_start_time`  | Numeric (Unix time)  | The exact time the session started, stored as a Unix timestamp (not used)                     |\n",
    "| `original_end_time`    | Numeric (Unix time)  | The exact time the session started, stored as a Unix timestamp (not used)                     |\n",
    "\n",
    "\n",
    "### Potential Issues\n",
    "\n",
    "- Subscription behavior may be influenced by external factors not captured in the dataset (e.g., incentives, prior interest).\n",
    "- Some players have very little gameplay data or only appeared once.\n",
    "- Small sample size (n = 196) may limit generalizability."
   ]
  },
  {
   "cell_type": "markdown",
   "id": "3f2f46da-7dcd-4fbe-b348-2d5953536fa2",
   "metadata": {},
   "source": [
    " ## Methods & Results"
   ]
  },
  {
   "cell_type": "markdown",
   "id": "59a89736-4bb3-4189-a5aa-6d4f170bf52d",
   "metadata": {},
   "source": [
    "To answer whether player demographics and gameplay behavior can predict newsletter subscription, we built a k-nearest neighbors (k-NN) classification model using the `tidymodels` framework in R. The full workflow is described below.\n",
    "### 1. Loading and Wrangling the Data\n",
    "\n",
    "We started by loading the two datasets: `players.csv` and `sessions.csv`. Each session's duration was calculated and summed per player to compute total playtime.\n",
    "\n"
   ]
  },
  {
   "cell_type": "code",
   "execution_count": 8,
   "id": "24831127-2615-4b43-82ce-067407035a63",
   "metadata": {},
   "outputs": [
    {
     "name": "stderr",
     "output_type": "stream",
     "text": [
      "\u001b[1mRows: \u001b[22m\u001b[34m196\u001b[39m \u001b[1mColumns: \u001b[22m\u001b[34m7\u001b[39m\n",
      "\u001b[36m──\u001b[39m \u001b[1mColumn specification\u001b[22m \u001b[36m────────────────────────────────────────────────────────\u001b[39m\n",
      "\u001b[1mDelimiter:\u001b[22m \",\"\n",
      "\u001b[31mchr\u001b[39m (4): experience, hashedEmail, name, gender\n",
      "\u001b[32mdbl\u001b[39m (2): played_hours, Age\n",
      "\u001b[33mlgl\u001b[39m (1): subscribe\n",
      "\n",
      "\u001b[36mℹ\u001b[39m Use `spec()` to retrieve the full column specification for this data.\n",
      "\u001b[36mℹ\u001b[39m Specify the column types or set `show_col_types = FALSE` to quiet this message.\n",
      "\u001b[1mRows: \u001b[22m\u001b[34m1535\u001b[39m \u001b[1mColumns: \u001b[22m\u001b[34m5\u001b[39m\n",
      "\u001b[36m──\u001b[39m \u001b[1mColumn specification\u001b[22m \u001b[36m────────────────────────────────────────────────────────\u001b[39m\n",
      "\u001b[1mDelimiter:\u001b[22m \",\"\n",
      "\u001b[31mchr\u001b[39m (3): hashedEmail, start_time, end_time\n",
      "\u001b[32mdbl\u001b[39m (2): original_start_time, original_end_time\n",
      "\n",
      "\u001b[36mℹ\u001b[39m Use `spec()` to retrieve the full column specification for this data.\n",
      "\u001b[36mℹ\u001b[39m Specify the column types or set `show_col_types = FALSE` to quiet this message.\n"
     ]
    }
   ],
   "source": [
    "# Load libraries\n",
    "library(tidyverse)\n",
    "library(lubridate)\n",
    "library(tidymodels)\n",
    "\n",
    "# Load datasets\n",
    "players <- read_csv(\"players.csv\")\n",
    "sessions <- read_csv(\"sessions.csv\")\n",
    "\n",
    "# Calculate session length and total playtime per player\n",
    "sessions <- sessions |>\n",
    "  mutate(start_time = dmy_hm(start_time),\n",
    "         end_time = dmy_hm(end_time),\n",
    "         session_length = as.numeric(difftime(end_time, start_time, units = \"hours\")))\n",
    "\n",
    "playtime_summary <- sessions |>\n",
    "  group_by(hashedEmail) |>\n",
    "  summarize(calculated_played_hours = sum(session_length, na.rm = TRUE))"
   ]
  },
  {
   "cell_type": "code",
   "execution_count": null,
   "id": "fae2bbfa-bd55-4929-b539-eb910f6c4708",
   "metadata": {},
   "outputs": [],
   "source": []
  },
  {
   "cell_type": "code",
   "execution_count": null,
   "id": "6614a9c0-1ecb-4da5-8530-e3291e2d4717",
   "metadata": {},
   "outputs": [],
   "source": []
  }
 ],
 "metadata": {
  "kernelspec": {
   "display_name": "R",
   "language": "R",
   "name": "ir"
  },
  "language_info": {
   "codemirror_mode": "r",
   "file_extension": ".r",
   "mimetype": "text/x-r-source",
   "name": "R",
   "pygments_lexer": "r",
   "version": "4.3.3"
  }
 },
 "nbformat": 4,
 "nbformat_minor": 5
}
